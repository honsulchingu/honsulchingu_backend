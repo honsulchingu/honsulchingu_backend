{
 "cells": [
  {
   "cell_type": "code",
   "execution_count": 3,
   "metadata": {},
   "outputs": [],
   "source": [
    "# cmd pip install nbformat\n",
    "import nbformat\n",
    "\n",
    "def convert_ipynb_to_py(ipynb_file, py_file):\n",
    "    with open(ipynb_file, \"r\", encoding=\"utf-8\") as f:\n",
    "        notebook = nbformat.read(f, as_version=4)\n",
    "\n",
    "    code_cells = []\n",
    "    for cell in notebook.cells:\n",
    "        if cell.cell_type == \"code\":\n",
    "            code_cells.append(cell.source)\n",
    "\n",
    "    with open(py_file, \"w\", encoding=\"utf-8\") as f:\n",
    "        f.write(\"\\n\\n\".join(code_cells))\n",
    "\n",
    "# 변환 실행 (대체)\n",
    "convert_ipynb_to_py(\n",
    "    \"C:/Users/Alps1/honsulchingu_fast_api/Fast_API_Server_Runner.ipynb\",\n",
    "    \"C:/Users/Alps1/honsulchingu_fast_api/Fast_API_Server_Runner.py\"\n",
    ")"
   ]
  }
 ],
 "metadata": {
  "kernelspec": {
   "display_name": "Python 3",
   "language": "python",
   "name": "python3"
  },
  "language_info": {
   "codemirror_mode": {
    "name": "ipython",
    "version": 3
   },
   "file_extension": ".py",
   "mimetype": "text/x-python",
   "name": "python",
   "nbconvert_exporter": "python",
   "pygments_lexer": "ipython3",
   "version": "3.13.2"
  }
 },
 "nbformat": 4,
 "nbformat_minor": 2
}
