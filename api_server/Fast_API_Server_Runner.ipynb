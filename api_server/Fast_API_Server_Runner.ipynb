{
 "cells": [
  {
   "cell_type": "code",
   "execution_count": 1,
   "metadata": {},
   "outputs": [],
   "source": [
    "# Kernel base(Python 3.12.7)\n",
    "# cmd pip install fastapi\n",
    "# cmd pip install uvicorn\n",
    "# cmd cd honsulchingu_fast_api\n",
    "# cmd uvicorn Fast_API_Server_Runner:app --host 0.0.0.0 --port 8000 --reload\n",
    "# EC2 보안 그룹 8000 포트 개방 (http://퍼블릭 IP 접속:8000)\n",
    "# http://127.0.0.1:8000 (접속)\n",
    "# http://127.0.0.1:8000/docs (문서)\n",
    "# http://127.0.0.1:8000/openapi.json (성능)\n",
    "from fastapi import FastAPI, HTTPException\n",
    "from pydantic import BaseModel\n",
    "from typing import Optional\n",
    "\n",
    "# FastAPI 앱 생성\n",
    "app = FastAPI()\n",
    "\n",
    "# 요청 데이터 형식을 정의할 Pydantic 모델 (Pydantic은 Python 데이터 검증 및 설정 관리 라이브러리)\n",
    "class InputData(BaseModel):\n",
    "    text: str\n",
    "\n",
    "# http://. . . . :/ 경로\n",
    "@app.get(\"/\")\n",
    "def home():\n",
    "    return {\"message\": \"FastAPI 서버가 정상 작동 중입니다.\"}\n",
    "\n",
    "# http://. . . . :/chat 경로\n",
    "@app.post(\"/chat\")\n",
    "def chat(data: InputData):\n",
    "    user_input = data.text\n",
    "    if not user_input:\n",
    "        raise HTTPException(status_code=400, detail=\"텍스트를 입력하세요.\")\n",
    "    \n",
    "    response = user_input + \"에 대한 응답입니다.\"\n",
    "    return {\"response\": response}\n",
    "\n",
    "# http://. . . . :/ai 경로\n",
    "@app.post(\"/ai\")\n",
    "def ai(data: InputData):\n",
    "    user_input = data.text\n",
    "    if not user_input:\n",
    "        raise HTTPException(status_code=400, detail=\"텍스트를 입력하세요.\")\n",
    "    \n",
    "    response = user_input + \"에 대한 AI응답입니다.\"\n",
    "    return {\"response\": response}"
   ]
  }
 ],
 "metadata": {
  "kernelspec": {
   "display_name": "Python 3",
   "language": "python",
   "name": "python3"
  },
  "language_info": {
   "codemirror_mode": {
    "name": "ipython",
    "version": 3
   },
   "file_extension": ".py",
   "mimetype": "text/x-python",
   "name": "python",
   "nbconvert_exporter": "python",
   "pygments_lexer": "ipython3",
   "version": "3.13.2"
  }
 },
 "nbformat": 4,
 "nbformat_minor": 2
}
