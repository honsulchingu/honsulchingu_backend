{
 "cells": [
  {
   "cell_type": "code",
   "execution_count": 4,
   "metadata": {},
   "outputs": [
    {
     "name": "stdout",
     "output_type": "stream",
     "text": [
      "안녕!에 대한 응답입니다.\n"
     ]
    }
   ],
   "source": [
    "# cmd pip install requests\n",
    "import requests\n",
    "\n",
    "# 서버 URL 설정\n",
    "url = \"http://127.0.0.1:8000/chat\"\n",
    "\n",
    "# 전송할 데이터\n",
    "data = {\"text\": \"안녕!\"}\n",
    "\n",
    "# POST 요청 보내기\n",
    "response = requests.post(url, json=data)\n",
    "\n",
    "# JSON 응답\n",
    "print(response.json().get(\"response\", \"응답이 없습니다.\"))"
   ]
  },
  {
   "cell_type": "code",
   "execution_count": 5,
   "metadata": {},
   "outputs": [
    {
     "name": "stdout",
     "output_type": "stream",
     "text": [
      "안녕!!에 대한 AI응답입니다.\n"
     ]
    }
   ],
   "source": [
    "# cmd pip install requests\n",
    "import requests\n",
    "\n",
    "# 서버 URL 설정\n",
    "url = \"http://127.0.0.1:8000/ai\"\n",
    "\n",
    "# 전송할 데이터\n",
    "data = {\"text\": \"안녕!!\"}\n",
    "\n",
    "# POST 요청 보내기\n",
    "response = requests.post(url, json=data)\n",
    "\n",
    "# JSON 응답\n",
    "print(response.json().get(\"response\", \"응답이 없습니다.\"))"
   ]
  }
 ],
 "metadata": {
  "kernelspec": {
   "display_name": "Python 3",
   "language": "python",
   "name": "python3"
  },
  "language_info": {
   "codemirror_mode": {
    "name": "ipython",
    "version": 3
   },
   "file_extension": ".py",
   "mimetype": "text/x-python",
   "name": "python",
   "nbconvert_exporter": "python",
   "pygments_lexer": "ipython3",
   "version": "3.13.2"
  }
 },
 "nbformat": 4,
 "nbformat_minor": 2
}
